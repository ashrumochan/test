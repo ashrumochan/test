{
 "cells": [
  {
   "cell_type": "code",
   "execution_count": 15,
   "metadata": {},
   "outputs": [
    {
     "name": "stderr",
     "output_type": "stream",
     "text": [
      "C:\\Users\\Ashrumochan\\Anaconda3\\lib\\site-packages\\sklearn\\ensemble\\weight_boosting.py:29: DeprecationWarning: numpy.core.umath_tests is an internal NumPy module and should not be imported. It will be removed in a future NumPy release.\n",
      "  from numpy.core.umath_tests import inner1d\n"
     ]
    }
   ],
   "source": [
    "import pandas as pd\n",
    "from sklearn import preprocessing\n",
    "from sklearn import tree\n",
    "from sklearn import model_selection\n",
    "import matplotlib.pyplot as plt\n",
    "from sklearn import ensemble"
   ]
  },
  {
   "cell_type": "code",
   "execution_count": 3,
   "metadata": {},
   "outputs": [
    {
     "name": "stdout",
     "output_type": "stream",
     "text": [
      "<class 'pandas.core.frame.DataFrame'>\n",
      "RangeIndex: 891 entries, 0 to 890\n",
      "Data columns (total 12 columns):\n",
      "PassengerId    891 non-null int64\n",
      "Survived       891 non-null int64\n",
      "Pclass         891 non-null int64\n",
      "Name           891 non-null object\n",
      "Sex            891 non-null object\n",
      "Age            714 non-null float64\n",
      "SibSp          891 non-null int64\n",
      "Parch          891 non-null int64\n",
      "Ticket         891 non-null object\n",
      "Fare           891 non-null float64\n",
      "Cabin          204 non-null object\n",
      "Embarked       889 non-null object\n",
      "dtypes: float64(2), int64(5), object(5)\n",
      "memory usage: 83.6+ KB\n"
     ]
    }
   ],
   "source": [
    "titanic_train = pd.read_csv(\"D:\\\\Data\\\\train.csv\")\n",
    "titanic_train.shape\n",
    "titanic_train.info()"
   ]
  },
  {
   "cell_type": "code",
   "execution_count": 4,
   "metadata": {},
   "outputs": [
    {
     "name": "stdout",
     "output_type": "stream",
     "text": [
      "<class 'pandas.core.frame.DataFrame'>\n",
      "RangeIndex: 418 entries, 0 to 417\n",
      "Data columns (total 11 columns):\n",
      "PassengerId    418 non-null int64\n",
      "Pclass         418 non-null int64\n",
      "Name           418 non-null object\n",
      "Sex            418 non-null object\n",
      "Age            332 non-null float64\n",
      "SibSp          418 non-null int64\n",
      "Parch          418 non-null int64\n",
      "Ticket         418 non-null object\n",
      "Fare           417 non-null float64\n",
      "Cabin          91 non-null object\n",
      "Embarked       418 non-null object\n",
      "dtypes: float64(2), int64(4), object(5)\n",
      "memory usage: 36.0+ KB\n"
     ]
    }
   ],
   "source": [
    "titanic_test = pd.read_csv('D:\\\\Data\\\\test.csv')\n",
    "titanic_test.shape\n",
    "titanic_test.info()"
   ]
  },
  {
   "cell_type": "code",
   "execution_count": 5,
   "metadata": {},
   "outputs": [],
   "source": [
    "titanic_test.Survived = None"
   ]
  },
  {
   "cell_type": "code",
   "execution_count": 6,
   "metadata": {},
   "outputs": [
    {
     "name": "stdout",
     "output_type": "stream",
     "text": [
      "<class 'pandas.core.frame.DataFrame'>\n",
      "Int64Index: 1309 entries, 0 to 417\n",
      "Data columns (total 12 columns):\n",
      "Age            1046 non-null float64\n",
      "Cabin          295 non-null object\n",
      "Embarked       1307 non-null object\n",
      "Fare           1308 non-null float64\n",
      "Name           1309 non-null object\n",
      "Parch          1309 non-null int64\n",
      "PassengerId    1309 non-null int64\n",
      "Pclass         1309 non-null int64\n",
      "Sex            1309 non-null object\n",
      "SibSp          1309 non-null int64\n",
      "Survived       891 non-null float64\n",
      "Ticket         1309 non-null object\n",
      "dtypes: float64(3), int64(4), object(5)\n",
      "memory usage: 132.9+ KB\n"
     ]
    },
    {
     "name": "stderr",
     "output_type": "stream",
     "text": [
      "C:\\Users\\Ashrumochan\\Anaconda3\\lib\\site-packages\\ipykernel_launcher.py:3: FutureWarning: Sorting because non-concatenation axis is not aligned. A future version\n",
      "of pandas will change to not sort by default.\n",
      "\n",
      "To accept the future behavior, pass 'sort=False'.\n",
      "\n",
      "To retain the current behavior and silence the warning, pass 'sort=True'.\n",
      "\n",
      "  This is separate from the ipykernel package so we can avoid doing imports until\n"
     ]
    }
   ],
   "source": [
    "#Let's excercise by concatinating both train and test data\n",
    "#Concatenation is Bcoz to have same number of rows and columns so that our job will be easy\n",
    "titanic = pd.concat([titanic_train, titanic_test])\n",
    "titanic.shape\n",
    "titanic.info()"
   ]
  },
  {
   "cell_type": "code",
   "execution_count": 7,
   "metadata": {},
   "outputs": [],
   "source": [
    "#Extract and create title column from name\n",
    "def extract_title(name):\n",
    "     return name.split(',')[1].split('.')[0].strip()\n",
    "#The map(aFunction, aSequence) function applies a passed-in function to each item in an iterable object \n",
    "#and returns a list containing all the function call results.\n",
    "titanic['Title'] = titanic['Name'].map(extract_title)"
   ]
  },
  {
   "cell_type": "code",
   "execution_count": 8,
   "metadata": {},
   "outputs": [],
   "source": [
    "#Imputation work for missing data with default values\n",
    "mean_imputer = preprocessing.Imputer() #By defalut parameter is mean and let it use default one.\n",
    "mean_imputer.fit(titanic_train[['Age','Fare']]) \n",
    "#Age is missing in both train and test data.\n",
    "#Fare is NOT missing in train data but missing test data. Since we are playing on tatanic union data, we are applying mean imputer on Fare as well..\n",
    "titanic[['Age','Fare']] = mean_imputer.transform(titanic[['Age','Fare']])"
   ]
  },
  {
   "cell_type": "code",
   "execution_count": 9,
   "metadata": {},
   "outputs": [],
   "source": [
    "#creaate categorical age column from age\n",
    "#It's always a good practice to create functions so that the same can be applied on test data as well\n",
    "def convert_age(age):\n",
    "    if(age >= 0 and age <= 10): \n",
    "        return 'Child'\n",
    "    elif(age <= 25): \n",
    "        return 'Young'\n",
    "    elif(age <= 50): \n",
    "        return 'Middle'\n",
    "    else: \n",
    "        return 'Old'\n",
    "#Convert numerical Age column to categorical Age_Cat column\n",
    "titanic['Age_Cat'] = titanic['Age'].map(convert_age)"
   ]
  },
  {
   "cell_type": "code",
   "execution_count": 10,
   "metadata": {},
   "outputs": [],
   "source": [
    "#Create a new column FamilySize by combining SibSp and Parch and seee we get any additioanl pattern recognition than individual\n",
    "titanic['FamilySize'] = titanic['SibSp'] +  titanic['Parch'] + 1\n",
    "def convert_familysize(size):\n",
    "    if(size == 1): \n",
    "        return 'Single'\n",
    "    elif(size <=3): \n",
    "        return 'Small'\n",
    "    elif(size <= 6): \n",
    "        return 'Medium'\n",
    "    else: \n",
    "        return 'Large'\n",
    "#Convert numerical FamilySize column to categorical FamilySize_Cat column\n",
    "titanic['FamilySize_Cat'] = titanic['FamilySize'].map(convert_familysize)"
   ]
  },
  {
   "cell_type": "code",
   "execution_count": 11,
   "metadata": {},
   "outputs": [
    {
     "name": "stdout",
     "output_type": "stream",
     "text": [
      "<class 'pandas.core.frame.DataFrame'>\n",
      "Int64Index: 1309 entries, 0 to 417\n",
      "Data columns (total 44 columns):\n",
      "Age                      1309 non-null float64\n",
      "Cabin                    295 non-null object\n",
      "Fare                     1309 non-null float64\n",
      "Name                     1309 non-null object\n",
      "Parch                    1309 non-null int64\n",
      "PassengerId              1309 non-null int64\n",
      "SibSp                    1309 non-null int64\n",
      "Survived                 891 non-null float64\n",
      "Ticket                   1309 non-null object\n",
      "FamilySize               1309 non-null int64\n",
      "Sex_female               1309 non-null uint8\n",
      "Sex_male                 1309 non-null uint8\n",
      "Pclass_1                 1309 non-null uint8\n",
      "Pclass_2                 1309 non-null uint8\n",
      "Pclass_3                 1309 non-null uint8\n",
      "Embarked_C               1309 non-null uint8\n",
      "Embarked_Q               1309 non-null uint8\n",
      "Embarked_S               1309 non-null uint8\n",
      "Age_Cat_Child            1309 non-null uint8\n",
      "Age_Cat_Middle           1309 non-null uint8\n",
      "Age_Cat_Old              1309 non-null uint8\n",
      "Age_Cat_Young            1309 non-null uint8\n",
      "Title_Capt               1309 non-null uint8\n",
      "Title_Col                1309 non-null uint8\n",
      "Title_Don                1309 non-null uint8\n",
      "Title_Dona               1309 non-null uint8\n",
      "Title_Dr                 1309 non-null uint8\n",
      "Title_Jonkheer           1309 non-null uint8\n",
      "Title_Lady               1309 non-null uint8\n",
      "Title_Major              1309 non-null uint8\n",
      "Title_Master             1309 non-null uint8\n",
      "Title_Miss               1309 non-null uint8\n",
      "Title_Mlle               1309 non-null uint8\n",
      "Title_Mme                1309 non-null uint8\n",
      "Title_Mr                 1309 non-null uint8\n",
      "Title_Mrs                1309 non-null uint8\n",
      "Title_Ms                 1309 non-null uint8\n",
      "Title_Rev                1309 non-null uint8\n",
      "Title_Sir                1309 non-null uint8\n",
      "Title_the Countess       1309 non-null uint8\n",
      "FamilySize_Cat_Large     1309 non-null uint8\n",
      "FamilySize_Cat_Medium    1309 non-null uint8\n",
      "FamilySize_Cat_Single    1309 non-null uint8\n",
      "FamilySize_Cat_Small     1309 non-null uint8\n",
      "dtypes: float64(3), int64(4), object(3), uint8(34)\n",
      "memory usage: 156.0+ KB\n"
     ]
    }
   ],
   "source": [
    "#Now we got 3 new columns, Title, Age_Cat, FamilySize_Cat\n",
    "#convert categorical columns to one-hot encoded columns including  newly created 3 categorical columns\n",
    "#There is no other choice to convert categorical columns to get_dummies in Python\n",
    "titanic1 = pd.get_dummies(titanic, columns=['Sex','Pclass','Embarked', 'Age_Cat', 'Title', 'FamilySize_Cat'])\n",
    "titanic1.shape\n",
    "titanic1.info()"
   ]
  },
  {
   "cell_type": "code",
   "execution_count": 14,
   "metadata": {},
   "outputs": [
    {
     "name": "stdout",
     "output_type": "stream",
     "text": [
      "<class 'pandas.core.frame.DataFrame'>\n",
      "Int64Index: 1309 entries, 0 to 417\n",
      "Data columns (total 38 columns):\n",
      "Fare                     1309 non-null float64\n",
      "Parch                    1309 non-null int64\n",
      "SibSp                    1309 non-null int64\n",
      "FamilySize               1309 non-null int64\n",
      "Sex_female               1309 non-null uint8\n",
      "Sex_male                 1309 non-null uint8\n",
      "Pclass_1                 1309 non-null uint8\n",
      "Pclass_2                 1309 non-null uint8\n",
      "Pclass_3                 1309 non-null uint8\n",
      "Embarked_C               1309 non-null uint8\n",
      "Embarked_Q               1309 non-null uint8\n",
      "Embarked_S               1309 non-null uint8\n",
      "Age_Cat_Child            1309 non-null uint8\n",
      "Age_Cat_Middle           1309 non-null uint8\n",
      "Age_Cat_Old              1309 non-null uint8\n",
      "Age_Cat_Young            1309 non-null uint8\n",
      "Title_Capt               1309 non-null uint8\n",
      "Title_Col                1309 non-null uint8\n",
      "Title_Don                1309 non-null uint8\n",
      "Title_Dona               1309 non-null uint8\n",
      "Title_Dr                 1309 non-null uint8\n",
      "Title_Jonkheer           1309 non-null uint8\n",
      "Title_Lady               1309 non-null uint8\n",
      "Title_Major              1309 non-null uint8\n",
      "Title_Master             1309 non-null uint8\n",
      "Title_Miss               1309 non-null uint8\n",
      "Title_Mlle               1309 non-null uint8\n",
      "Title_Mme                1309 non-null uint8\n",
      "Title_Mr                 1309 non-null uint8\n",
      "Title_Mrs                1309 non-null uint8\n",
      "Title_Ms                 1309 non-null uint8\n",
      "Title_Rev                1309 non-null uint8\n",
      "Title_Sir                1309 non-null uint8\n",
      "Title_the Countess       1309 non-null uint8\n",
      "FamilySize_Cat_Large     1309 non-null uint8\n",
      "FamilySize_Cat_Medium    1309 non-null uint8\n",
      "FamilySize_Cat_Single    1309 non-null uint8\n",
      "FamilySize_Cat_Small     1309 non-null uint8\n",
      "dtypes: float64(1), int64(3), uint8(34)\n",
      "memory usage: 94.6 KB\n",
      "<class 'pandas.core.frame.DataFrame'>\n",
      "Int64Index: 891 entries, 0 to 890\n",
      "Data columns (total 38 columns):\n",
      "Fare                     891 non-null float64\n",
      "Parch                    891 non-null int64\n",
      "SibSp                    891 non-null int64\n",
      "FamilySize               891 non-null int64\n",
      "Sex_female               891 non-null uint8\n",
      "Sex_male                 891 non-null uint8\n",
      "Pclass_1                 891 non-null uint8\n",
      "Pclass_2                 891 non-null uint8\n",
      "Pclass_3                 891 non-null uint8\n",
      "Embarked_C               891 non-null uint8\n",
      "Embarked_Q               891 non-null uint8\n",
      "Embarked_S               891 non-null uint8\n",
      "Age_Cat_Child            891 non-null uint8\n",
      "Age_Cat_Middle           891 non-null uint8\n",
      "Age_Cat_Old              891 non-null uint8\n",
      "Age_Cat_Young            891 non-null uint8\n",
      "Title_Capt               891 non-null uint8\n",
      "Title_Col                891 non-null uint8\n",
      "Title_Don                891 non-null uint8\n",
      "Title_Dona               891 non-null uint8\n",
      "Title_Dr                 891 non-null uint8\n",
      "Title_Jonkheer           891 non-null uint8\n",
      "Title_Lady               891 non-null uint8\n",
      "Title_Major              891 non-null uint8\n",
      "Title_Master             891 non-null uint8\n",
      "Title_Miss               891 non-null uint8\n",
      "Title_Mlle               891 non-null uint8\n",
      "Title_Mme                891 non-null uint8\n",
      "Title_Mr                 891 non-null uint8\n",
      "Title_Mrs                891 non-null uint8\n",
      "Title_Ms                 891 non-null uint8\n",
      "Title_Rev                891 non-null uint8\n",
      "Title_Sir                891 non-null uint8\n",
      "Title_the Countess       891 non-null uint8\n",
      "FamilySize_Cat_Large     891 non-null uint8\n",
      "FamilySize_Cat_Medium    891 non-null uint8\n",
      "FamilySize_Cat_Single    891 non-null uint8\n",
      "FamilySize_Cat_Small     891 non-null uint8\n",
      "dtypes: float64(1), int64(3), uint8(34)\n",
      "memory usage: 64.4 KB\n"
     ]
    }
   ],
   "source": [
    "#Drop un-wanted columns for faster execution and create new set called titanic2\n",
    "titanic2 = titanic1.drop(['PassengerId','Name','Age','Ticket','Cabin','Survived'], axis=1, inplace=False)\n",
    "#See how may columns are there after 3 additional columns, one hot encoding and dropping\n",
    "titanic2.shape \n",
    "titanic2.info()\n",
    "#Splitting tain and test data\n",
    "X_train = titanic2[0:titanic_train.shape[0]] #0 t0 891 records\n",
    "X_train.shape\n",
    "X_train.info()\n",
    "y_train = titanic_train['Survived']"
   ]
  },
  {
   "cell_type": "code",
   "execution_count": null,
   "metadata": {},
   "outputs": [],
   "source": [
    "rf_estimator = ensemble.RandomForestClassifier(random_state=1)\n",
    "\n",
    "rf_grid = {'n_estimators':[50],'max_features'=[5,6,7],'min_samples_split':[3,4,6]}\n",
    "grid_rf_estimetor = model_selection.GridSearchCV(rf_estimator,rf_grid,cv=10,n_jobs=3)"
   ]
  }
 ],
 "metadata": {
  "kernelspec": {
   "display_name": "Python 3",
   "language": "python",
   "name": "python3"
  },
  "language_info": {
   "codemirror_mode": {
    "name": "ipython",
    "version": 3
   },
   "file_extension": ".py",
   "mimetype": "text/x-python",
   "name": "python",
   "nbconvert_exporter": "python",
   "pygments_lexer": "ipython3",
   "version": "3.7.0"
  }
 },
 "nbformat": 4,
 "nbformat_minor": 2
}
