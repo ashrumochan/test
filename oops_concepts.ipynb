{
 "cells": [
  {
   "cell_type": "markdown",
   "metadata": {},
   "source": [
    "## Inheritance"
   ]
  },
  {
   "cell_type": "markdown",
   "metadata": {},
   "source": [
    "### Single Inheritancae"
   ]
  },
  {
   "cell_type": "code",
   "execution_count": 1,
   "metadata": {},
   "outputs": [],
   "source": [
    "class c1:\n",
    "    a=100\n",
    "    def m1(self):\n",
    "        return \"M1 of Class C1\"\n",
    "class c2(c1):\n",
    "    b=200\n",
    "    def m2(self):\n",
    "        return \"M2 of Class C2\""
   ]
  },
  {
   "cell_type": "code",
   "execution_count": 2,
   "metadata": {},
   "outputs": [],
   "source": [
    "c2obj1 = c2()"
   ]
  },
  {
   "cell_type": "code",
   "execution_count": 4,
   "metadata": {},
   "outputs": [
    {
     "data": {
      "text/plain": [
       "'M1 of Class C1'"
      ]
     },
     "execution_count": 4,
     "metadata": {},
     "output_type": "execute_result"
    }
   ],
   "source": [
    "c2obj1."
   ]
  },
  {
   "cell_type": "markdown",
   "metadata": {},
   "source": [
    "### Multilevel Inheritancae"
   ]
  },
  {
   "cell_type": "code",
   "execution_count": 5,
   "metadata": {},
   "outputs": [],
   "source": [
    "class c3:\n",
    "    a=100\n",
    "    def m3(self):\n",
    "        return 'Method m3 class c3'\n",
    "class c4(c3):\n",
    "    b=300\n",
    "    def m4(self):\n",
    "        return 'Method m4 class c4'\n",
    "class c5(c4):\n",
    "    c=300\n",
    "    def m5(self):\n",
    "        return 'Method m5 class c5'"
   ]
  },
  {
   "cell_type": "code",
   "execution_count": 6,
   "metadata": {},
   "outputs": [],
   "source": [
    "c5obj1 = c5()"
   ]
  },
  {
   "cell_type": "code",
   "execution_count": null,
   "metadata": {},
   "outputs": [],
   "source": [
    "c5obj1."
   ]
  },
  {
   "cell_type": "markdown",
   "metadata": {},
   "source": [
    "### Multiple Inheritance"
   ]
  },
  {
   "cell_type": "code",
   "execution_count": 25,
   "metadata": {},
   "outputs": [],
   "source": [
    "class c6:\n",
    "    a=100\n",
    "    def m6(self):\n",
    "        return \"Method m6 of class c6\"\n",
    "class c7:\n",
    "    b=100\n",
    "    def m7(self):\n",
    "        return 'Method m7 class c7'\n",
    "    def m6(self):\n",
    "        return 'Method m6 of class c7'\n",
    "    \n",
    "class c8(c6,c7):\n",
    "    c=100\n",
    "    def m8(self):\n",
    "        print(c7.m6(self))\n",
    "        return 'Method m8 class c8'"
   ]
  },
  {
   "cell_type": "code",
   "execution_count": 26,
   "metadata": {},
   "outputs": [],
   "source": [
    "c8obj1 = c8()"
   ]
  },
  {
   "cell_type": "code",
   "execution_count": 27,
   "metadata": {},
   "outputs": [
    {
     "data": {
      "text/plain": [
       "'Method m6 of class c6'"
      ]
     },
     "execution_count": 27,
     "metadata": {},
     "output_type": "execute_result"
    }
   ],
   "source": [
    "c8obj1.m6()"
   ]
  },
  {
   "cell_type": "code",
   "execution_count": 28,
   "metadata": {},
   "outputs": [],
   "source": [
    "class c6:\n",
    "    a=100\n",
    "    def m6(self):\n",
    "        return \"Method m6 of class c6\"\n",
    "class c7:\n",
    "    b=100\n",
    "    def m7(self):\n",
    "        return 'Method m7 class c7'\n",
    "    def m6(self):\n",
    "        return 'Method m6 of class c7'\n",
    "    \n",
    "class c8(c7,c6):\n",
    "    c=100\n",
    "    def m8(self):\n",
    "        print(c6.m6(self))\n",
    "        return 'Method m8 class c8'"
   ]
  },
  {
   "cell_type": "code",
   "execution_count": 30,
   "metadata": {},
   "outputs": [],
   "source": [
    "c8obj2 = c8()"
   ]
  },
  {
   "cell_type": "code",
   "execution_count": 32,
   "metadata": {},
   "outputs": [
    {
     "data": {
      "text/plain": [
       "'Method m6 of class c7'"
      ]
     },
     "execution_count": 32,
     "metadata": {},
     "output_type": "execute_result"
    }
   ],
   "source": [
    "c8obj2.m6()"
   ]
  },
  {
   "cell_type": "markdown",
   "metadata": {},
   "source": [
    "#### 13-Jan-2019\n",
    "### Hierarchical Inheritance"
   ]
  },
  {
   "cell_type": "code",
   "execution_count": 1,
   "metadata": {},
   "outputs": [],
   "source": [
    "class c9:\n",
    "    a=100\n",
    "    def m9():\n",
    "        print(\"Method m9 of class c9\")\n",
    "class c10(c9):\n",
    "    b=200\n",
    "    def m10():\n",
    "        print(\"Method m10 of class c10\")\n",
    "class c11(c9):\n",
    "    c=300\n",
    "    def m11():\n",
    "        print(\"Method m11 of class c11\")"
   ]
  },
  {
   "cell_type": "code",
   "execution_count": 3,
   "metadata": {},
   "outputs": [],
   "source": [
    "c10obj1 = c10()"
   ]
  },
  {
   "cell_type": "code",
   "execution_count": 4,
   "metadata": {},
   "outputs": [],
   "source": [
    "c11obj1 = c11()"
   ]
  },
  {
   "cell_type": "code",
   "execution_count": 5,
   "metadata": {},
   "outputs": [
    {
     "data": {
      "text/plain": [
       "100"
      ]
     },
     "execution_count": 5,
     "metadata": {},
     "output_type": "execute_result"
    }
   ],
   "source": [
    "c10obj1.a"
   ]
  },
  {
   "cell_type": "code",
   "execution_count": 6,
   "metadata": {},
   "outputs": [
    {
     "data": {
      "text/plain": [
       "100"
      ]
     },
     "execution_count": 6,
     "metadata": {},
     "output_type": "execute_result"
    }
   ],
   "source": [
    "c11obj1.a"
   ]
  },
  {
   "cell_type": "markdown",
   "metadata": {},
   "source": [
    "### Hybrid Inheritance"
   ]
  },
  {
   "cell_type": "code",
   "execution_count": 62,
   "metadata": {},
   "outputs": [],
   "source": [
    "class c12:\n",
    "    a=100\n",
    "    def m12():\n",
    "        print(\"Method m12 of class c12\")\n",
    "class c13:\n",
    "    b=200\n",
    "    def m13():\n",
    "        print(\"Method m13 of class c13\")\n",
    "class c14(c12,c13):\n",
    "    c=300\n",
    "    def m14():\n",
    "        print(\"Method m14 of class c14\")\n",
    "class c15(c14):\n",
    "    d=400\n",
    "    def m15():\n",
    "        print(\"Method m15 of class c15\")\n",
    "class c16(c14):\n",
    "    e=500\n",
    "    def m16():\n",
    "        print(\"Method m16 of class c16\")"
   ]
  },
  {
   "cell_type": "code",
   "execution_count": 63,
   "metadata": {},
   "outputs": [
    {
     "name": "stdout",
     "output_type": "stream",
     "text": [
      "<function c12.m12 at 0x000001BD0CBB9BF8>\n"
     ]
    }
   ],
   "source": [
    "print(c12.m12)"
   ]
  },
  {
   "cell_type": "code",
   "execution_count": 8,
   "metadata": {},
   "outputs": [],
   "source": [
    "c15obj1 = c15()"
   ]
  },
  {
   "cell_type": "code",
   "execution_count": 9,
   "metadata": {},
   "outputs": [],
   "source": [
    "c16obj1 = c16()"
   ]
  },
  {
   "cell_type": "code",
   "execution_count": null,
   "metadata": {},
   "outputs": [],
   "source": [
    "c15obj1."
   ]
  },
  {
   "cell_type": "code",
   "execution_count": null,
   "metadata": {},
   "outputs": [],
   "source": [
    "c16obj1."
   ]
  },
  {
   "cell_type": "markdown",
   "metadata": {},
   "source": [
    "### Polymorphism"
   ]
  },
  {
   "cell_type": "markdown",
   "metadata": {},
   "source": [
    "One method behaving differently based n input parameters"
   ]
  },
  {
   "cell_type": "code",
   "execution_count": 36,
   "metadata": {},
   "outputs": [],
   "source": [
    "#Method Overloading is not supported in Python(Java Style)\n",
    "class x:\n",
    "    def m1(self,a):\n",
    "        self.a=a\n",
    "        return self.a\n",
    "    def m1(self,a,b):\n",
    "        self.a=a\n",
    "        self.b=b\n",
    "        return self.a,self.b\n",
    "    def m1(self,a,b,c):\n",
    "        self.a=a\n",
    "        self.b=b\n",
    "        self.c=c\n",
    "        return self.a,self.b,self.c"
   ]
  },
  {
   "cell_type": "code",
   "execution_count": 21,
   "metadata": {},
   "outputs": [],
   "source": [
    "xobj1=x()"
   ]
  },
  {
   "cell_type": "code",
   "execution_count": 22,
   "metadata": {},
   "outputs": [
    {
     "ename": "TypeError",
     "evalue": "m1() missing 1 required positional argument: 'c'",
     "output_type": "error",
     "traceback": [
      "\u001b[1;31m---------------------------------------------------------------------------\u001b[0m",
      "\u001b[1;31mTypeError\u001b[0m                                 Traceback (most recent call last)",
      "\u001b[1;32m<ipython-input-22-58dad27e21bb>\u001b[0m in \u001b[0;36m<module>\u001b[1;34m()\u001b[0m\n\u001b[0;32m      1\u001b[0m \u001b[0mxobj1\u001b[0m\u001b[1;33m.\u001b[0m\u001b[0mm1\u001b[0m\u001b[1;33m(\u001b[0m\u001b[1;36m1\u001b[0m\u001b[1;33m,\u001b[0m\u001b[1;36m2\u001b[0m\u001b[1;33m,\u001b[0m\u001b[1;36m3\u001b[0m\u001b[1;33m)\u001b[0m  \u001b[1;31m# Working\u001b[0m\u001b[1;33m\u001b[0m\u001b[0m\n\u001b[1;32m----> 2\u001b[1;33m \u001b[0mxobj1\u001b[0m\u001b[1;33m.\u001b[0m\u001b[0mm1\u001b[0m\u001b[1;33m(\u001b[0m\u001b[1;36m1\u001b[0m\u001b[1;33m,\u001b[0m\u001b[1;36m2\u001b[0m\u001b[1;33m)\u001b[0m    \u001b[1;31m# Not Working\u001b[0m\u001b[1;33m\u001b[0m\u001b[0m\n\u001b[0m",
      "\u001b[1;31mTypeError\u001b[0m: m1() missing 1 required positional argument: 'c'"
     ]
    }
   ],
   "source": [
    "xobj1.m1(1,2,3)  # Working\n",
    "xobj1.m1(1,2)    # Not Working"
   ]
  },
  {
   "cell_type": "code",
   "execution_count": 37,
   "metadata": {},
   "outputs": [],
   "source": [
    "#Method Overloading is not supported in Python(Java Style)\n",
    "class x:\n",
    "    def m1(self,a=None,b=None,c=None):\n",
    "        self.a=a\n",
    "        self.b=b\n",
    "        self.c=c\n",
    "        if a is not None and b is None and c is None:\n",
    "            return self.a\n",
    "        elif a is not None and b is not None and c is None:\n",
    "            return self.a,self.b\n",
    "        elif a is not None and b is not None and c is not None:\n",
    "            return self.a,self.b,self.c\n",
    "        return self.a,self.b,self.c"
   ]
  },
  {
   "cell_type": "code",
   "execution_count": 38,
   "metadata": {},
   "outputs": [],
   "source": [
    "xobj2 = x()"
   ]
  },
  {
   "cell_type": "code",
   "execution_count": 39,
   "metadata": {},
   "outputs": [
    {
     "name": "stdout",
     "output_type": "stream",
     "text": [
      "1\n",
      "(1, 2)\n",
      "(1, 2, 3)\n"
     ]
    }
   ],
   "source": [
    "print(xobj2.m1(1))\n",
    "print(xobj2.m1(1,2))\n",
    "print(xobj2.m1(1,2,3))"
   ]
  },
  {
   "cell_type": "markdown",
   "metadata": {},
   "source": [
    "### Method Overriding"
   ]
  },
  {
   "cell_type": "code",
   "execution_count": 65,
   "metadata": {},
   "outputs": [],
   "source": [
    "class x1:\n",
    "    def m1(self):\n",
    "        return \"Method M1 from class X1\"\n",
    "class x2(x1):\n",
    "    def m1(self):\n",
    "        #return \"Method M1 from class X2\"\n",
    "        #print(x1.m1(self))\n",
    "        print(super().m1())\n",
    "    def m2(self):\n",
    "        print(super().m1())\n",
    "        return \"Method M2 from class X2\"\n"
   ]
  },
  {
   "cell_type": "code",
   "execution_count": 67,
   "metadata": {},
   "outputs": [],
   "source": [
    "x2obj1=x2()"
   ]
  },
  {
   "cell_type": "code",
   "execution_count": 68,
   "metadata": {},
   "outputs": [
    {
     "name": "stdout",
     "output_type": "stream",
     "text": [
      "Method M1 from class X1\n"
     ]
    }
   ],
   "source": [
    "x2obj1.m1()"
   ]
  },
  {
   "cell_type": "code",
   "execution_count": 69,
   "metadata": {},
   "outputs": [
    {
     "name": "stdout",
     "output_type": "stream",
     "text": [
      "Method M1 from class X1\n"
     ]
    },
    {
     "data": {
      "text/plain": [
       "'Method M2 from class X2'"
      ]
     },
     "execution_count": 69,
     "metadata": {},
     "output_type": "execute_result"
    }
   ],
   "source": [
    "x2obj1.m2()"
   ]
  },
  {
   "cell_type": "markdown",
   "metadata": {},
   "source": [
    "### Constructor Overroding"
   ]
  },
  {
   "cell_type": "code",
   "execution_count": 27,
   "metadata": {},
   "outputs": [],
   "source": [
    "class x1:\n",
    "    def __init__(self,a):\n",
    "        self.a=a\n",
    "        print(\"First Constructor\")\n",
    "\n",
    "    def m1(self):\n",
    "        print(self.a)\n",
    "        return \"Method M1 from class X1\"\n",
    "class x2(x1):\n",
    "    def __init__(self,a,b):\n",
    "        self.b=b\n",
    "        print(\"Second Constructor\")\n",
    "        super().__init__(b)\n",
    "        \n",
    "    def m1(self):\n",
    "        print(\"Method M1 from class X2\")\n",
    "        print(super().m1())\n",
    "        \n",
    "    def m2(self):\n",
    "        print(super().m1())\n",
    "        return \"Method M2 from class X2\"\n"
   ]
  },
  {
   "cell_type": "code",
   "execution_count": 28,
   "metadata": {},
   "outputs": [
    {
     "name": "stdout",
     "output_type": "stream",
     "text": [
      "Second Constructor\n",
      "First Constructor\n"
     ]
    }
   ],
   "source": [
    "x2obj2 = x2(2,3)"
   ]
  },
  {
   "cell_type": "code",
   "execution_count": 29,
   "metadata": {},
   "outputs": [
    {
     "name": "stdout",
     "output_type": "stream",
     "text": [
      "Method M1 from class X2\n",
      "3\n",
      "Method M1 from class X1\n"
     ]
    }
   ],
   "source": [
    "x2obj2.m1()"
   ]
  },
  {
   "cell_type": "code",
   "execution_count": 53,
   "metadata": {},
   "outputs": [],
   "source": [
    "class rectangle:\n",
    "    def __init__(self,length,breadth):\n",
    "        self.length=length\n",
    "        self.breadth=breadth\n",
    "        print(\"Rectangle\")\n",
    "\n",
    "    def area(self):\n",
    "        return self.length*self.breadth\n",
    "    \n",
    "class square(rectangle):\n",
    "    def __init__(self,length,breadth):\n",
    "        self.length=length\n",
    "        super().__init__(length,breadth)\n",
    "        print(\"Square\")\n",
    "    \n",
    "    def area(self):\n",
    "        print(\"Area of Rectangle:: \",super().area())\n",
    "        return self.length*self.length"
   ]
  },
  {
   "cell_type": "code",
   "execution_count": 55,
   "metadata": {},
   "outputs": [
    {
     "name": "stdout",
     "output_type": "stream",
     "text": [
      "Rectangle\n",
      "Square\n"
     ]
    }
   ],
   "source": [
    "squareobj1 = square(2,3)"
   ]
  },
  {
   "cell_type": "code",
   "execution_count": 57,
   "metadata": {},
   "outputs": [
    {
     "name": "stdout",
     "output_type": "stream",
     "text": [
      "Area of Rectangle::  6\n",
      "Area of Square::  4\n"
     ]
    }
   ],
   "source": [
    "print(\"Area of Square:: \",squareobj1.area())"
   ]
  },
  {
   "cell_type": "markdown",
   "metadata": {},
   "source": [
    "### Encapsulation"
   ]
  },
  {
   "cell_type": "code",
   "execution_count": 59,
   "metadata": {},
   "outputs": [],
   "source": [
    "class x:\n",
    "    a=100\n",
    "    _b=200\n",
    "    __c=300"
   ]
  },
  {
   "cell_type": "code",
   "execution_count": 60,
   "metadata": {},
   "outputs": [],
   "source": [
    "xobj1 = x()"
   ]
  },
  {
   "cell_type": "code",
   "execution_count": 66,
   "metadata": {},
   "outputs": [
    {
     "data": {
      "text/plain": [
       "100"
      ]
     },
     "execution_count": 66,
     "metadata": {},
     "output_type": "execute_result"
    }
   ],
   "source": [
    "xobj1.a"
   ]
  },
  {
   "cell_type": "code",
   "execution_count": 65,
   "metadata": {},
   "outputs": [
    {
     "data": {
      "text/plain": [
       "200"
      ]
     },
     "execution_count": 65,
     "metadata": {},
     "output_type": "execute_result"
    }
   ],
   "source": [
    "xobj1._b"
   ]
  },
  {
   "cell_type": "code",
   "execution_count": 72,
   "metadata": {},
   "outputs": [
    {
     "ename": "AttributeError",
     "evalue": "'x' object has no attribute '__c'",
     "output_type": "error",
     "traceback": [
      "\u001b[1;31m---------------------------------------------------------------------------\u001b[0m",
      "\u001b[1;31mAttributeError\u001b[0m                            Traceback (most recent call last)",
      "\u001b[1;32m<ipython-input-72-51ae344900a1>\u001b[0m in \u001b[0;36m<module>\u001b[1;34m()\u001b[0m\n\u001b[1;32m----> 1\u001b[1;33m \u001b[0mxobj1\u001b[0m\u001b[1;33m.\u001b[0m\u001b[0m__c\u001b[0m\u001b[1;33m\u001b[0m\u001b[0m\n\u001b[0m",
      "\u001b[1;31mAttributeError\u001b[0m: 'x' object has no attribute '__c'"
     ]
    }
   ],
   "source": [
    "xobj1.__c"
   ]
  },
  {
   "cell_type": "code",
   "execution_count": 71,
   "metadata": {},
   "outputs": [
    {
     "data": {
      "text/plain": [
       "300"
      ]
     },
     "execution_count": 71,
     "metadata": {},
     "output_type": "execute_result"
    }
   ],
   "source": [
    "xobj1._x__c"
   ]
  },
  {
   "cell_type": "code",
   "execution_count": 83,
   "metadata": {},
   "outputs": [],
   "source": [
    "class x:\n",
    "    a=100\n",
    "    _b=200\n",
    "    __c=300\n",
    "    def m1(self):\n",
    "        print(self.__c)"
   ]
  },
  {
   "cell_type": "code",
   "execution_count": 84,
   "metadata": {},
   "outputs": [],
   "source": [
    "xobj2 = x()"
   ]
  },
  {
   "cell_type": "code",
   "execution_count": 85,
   "metadata": {},
   "outputs": [
    {
     "name": "stdout",
     "output_type": "stream",
     "text": [
      "300\n"
     ]
    }
   ],
   "source": [
    "xobj2.m1()"
   ]
  },
  {
   "cell_type": "code",
   "execution_count": 87,
   "metadata": {},
   "outputs": [],
   "source": [
    "class x:\n",
    "    a=100\n",
    "    _b=200\n",
    "    __c=300\n",
    "    def m1(self):\n",
    "        print(\"M1\")\n",
    "    def _m2(self):\n",
    "        print(\"M2\")\n",
    "    def __m3(self):\n",
    "        print(\"M3\")"
   ]
  },
  {
   "cell_type": "code",
   "execution_count": 88,
   "metadata": {},
   "outputs": [],
   "source": [
    "xobj3 = x()"
   ]
  },
  {
   "cell_type": "code",
   "execution_count": 94,
   "metadata": {},
   "outputs": [
    {
     "name": "stdout",
     "output_type": "stream",
     "text": [
      "M1\n",
      "M2\n"
     ]
    },
    {
     "ename": "AttributeError",
     "evalue": "'x' object has no attribute '__m3'",
     "output_type": "error",
     "traceback": [
      "\u001b[1;31m---------------------------------------------------------------------------\u001b[0m",
      "\u001b[1;31mAttributeError\u001b[0m                            Traceback (most recent call last)",
      "\u001b[1;32m<ipython-input-94-d22d48910116>\u001b[0m in \u001b[0;36m<module>\u001b[1;34m()\u001b[0m\n\u001b[0;32m      1\u001b[0m \u001b[0mxobj3\u001b[0m\u001b[1;33m.\u001b[0m\u001b[0mm1\u001b[0m\u001b[1;33m(\u001b[0m\u001b[1;33m)\u001b[0m\u001b[1;33m\u001b[0m\u001b[0m\n\u001b[0;32m      2\u001b[0m \u001b[0mxobj3\u001b[0m\u001b[1;33m.\u001b[0m\u001b[0m_m2\u001b[0m\u001b[1;33m(\u001b[0m\u001b[1;33m)\u001b[0m\u001b[1;33m\u001b[0m\u001b[0m\n\u001b[1;32m----> 3\u001b[1;33m \u001b[0mxobj3\u001b[0m\u001b[1;33m.\u001b[0m\u001b[0m__m3\u001b[0m\u001b[1;33m(\u001b[0m\u001b[1;33m)\u001b[0m\u001b[1;33m\u001b[0m\u001b[0m\n\u001b[0m",
      "\u001b[1;31mAttributeError\u001b[0m: 'x' object has no attribute '__m3'"
     ]
    }
   ],
   "source": [
    "xobj3.m1()\n",
    "xobj3._m2()\n",
    "xobj3.__m3()"
   ]
  },
  {
   "cell_type": "code",
   "execution_count": 99,
   "metadata": {},
   "outputs": [
    {
     "name": "stdout",
     "output_type": "stream",
     "text": [
      "M3\n"
     ]
    }
   ],
   "source": [
    "xobj3._x__m3()"
   ]
  },
  {
   "cell_type": "markdown",
   "metadata": {},
   "source": [
    "### Abstraction"
   ]
  },
  {
   "cell_type": "code",
   "execution_count": 101,
   "metadata": {},
   "outputs": [],
   "source": [
    "from abc import ABC,abstractmethod"
   ]
  },
  {
   "cell_type": "code",
   "execution_count": 124,
   "metadata": {},
   "outputs": [],
   "source": [
    "class x1(ABC):\n",
    "    def m1(self):\n",
    "        print(\"M1\")\n",
    "    @abstractmethod\n",
    "    def m2(self):\n",
    "        print(\"M2\")\n",
    "    @abstractmethod\n",
    "    def m3(self):\n",
    "        print(\"M3\")\n",
    "class x2(x1):\n",
    "    def m2(self):\n",
    "        print(\"M2 in X2\")\n",
    "    def m3(self):\n",
    "        print(\"M3 in X2\")\n",
    "class x3(x1):\n",
    "    def m1(self):\n",
    "        print(\"M1 in X3\")\n",
    "    def m2(self):\n",
    "        print(\"M2 in X3\")\n",
    "    "
   ]
  },
  {
   "cell_type": "code",
   "execution_count": 127,
   "metadata": {
    "scrolled": true
   },
   "outputs": [
    {
     "ename": "TypeError",
     "evalue": "Can't instantiate abstract class x3 with abstract methods m3",
     "output_type": "error",
     "traceback": [
      "\u001b[1;31m---------------------------------------------------------------------------\u001b[0m",
      "\u001b[1;31mTypeError\u001b[0m                                 Traceback (most recent call last)",
      "\u001b[1;32m<ipython-input-127-df3b7969becb>\u001b[0m in \u001b[0;36m<module>\u001b[1;34m()\u001b[0m\n\u001b[1;32m----> 1\u001b[1;33m \u001b[0mx2obj1\u001b[0m \u001b[1;33m=\u001b[0m \u001b[0mx3\u001b[0m\u001b[1;33m(\u001b[0m\u001b[1;33m)\u001b[0m\u001b[1;33m\u001b[0m\u001b[0m\n\u001b[0m",
      "\u001b[1;31mTypeError\u001b[0m: Can't instantiate abstract class x3 with abstract methods m3"
     ]
    }
   ],
   "source": [
    "x2obj1 = x3()"
   ]
  },
  {
   "cell_type": "code",
   "execution_count": 143,
   "metadata": {},
   "outputs": [],
   "source": [
    "class x1(ABC):\n",
    "    @abstractmethod\n",
    "    def __init__(self):\n",
    "        print(\"Constructor - X1\")\n",
    "    def m1(self):\n",
    "        print(\"M1\")\n",
    "    @abstractmethod\n",
    "    def m2(self):\n",
    "        print(\"M2\")\n",
    "    @abstractmethod\n",
    "    def m3(self):\n",
    "        print(\"M3\")\n",
    "class x2(x1):\n",
    "    def __init__(self):\n",
    "        print(\"Constructor - X2\")\n",
    "    def m1(self):\n",
    "        print(\"M1 in X2\")\n",
    "    def m2(self):\n",
    "        print(\"M2 in X2\")\n",
    "    def m3(self):\n",
    "        print(\"M3 in X2\")\n",
    "class x3(x1):\n",
    "    def m1(self):\n",
    "        print(\"M1 in X3\")\n",
    "    def m2(self):\n",
    "        print(\"M2 in X3\")\n",
    "    def m3(self):\n",
    "        super().m3()\n",
    "        print(\"M3 in X3\")\n",
    "    "
   ]
  },
  {
   "cell_type": "code",
   "execution_count": 142,
   "metadata": {},
   "outputs": [
    {
     "name": "stdout",
     "output_type": "stream",
     "text": [
      "Constructor - X2\n"
     ]
    }
   ],
   "source": [
    "x2obj1 = x2()"
   ]
  },
  {
   "cell_type": "code",
   "execution_count": 134,
   "metadata": {
    "scrolled": true
   },
   "outputs": [
    {
     "name": "stdout",
     "output_type": "stream",
     "text": [
      "M3\n",
      "M3 in X3\n"
     ]
    }
   ],
   "source": [
    "x2obj1.m3()"
   ]
  },
  {
   "cell_type": "code",
   "execution_count": null,
   "metadata": {},
   "outputs": [],
   "source": []
  }
 ],
 "metadata": {
  "kernelspec": {
   "display_name": "Python 3",
   "language": "python",
   "name": "python3"
  },
  "language_info": {
   "codemirror_mode": {
    "name": "ipython",
    "version": 3
   },
   "file_extension": ".py",
   "mimetype": "text/x-python",
   "name": "python",
   "nbconvert_exporter": "python",
   "pygments_lexer": "ipython3",
   "version": "3.7.0"
  }
 },
 "nbformat": 4,
 "nbformat_minor": 2
}
